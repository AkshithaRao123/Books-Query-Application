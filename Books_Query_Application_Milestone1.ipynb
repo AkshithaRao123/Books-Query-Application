{
  "cells": [
    {
      "cell_type": "code",
      "execution_count": null,
      "metadata": {
        "id": "1qRc8ziN-lUA"
      },
      "outputs": [],
      "source": [
        "import requests\n",
        "#To request data from Openlibrary API about the book 'To Kill a Mockingbird'\n",
        "resp = requests.get(\"https://openlibrary.org/search.json?title=to+kill+a+mockingbird\")"
      ]
    },
    {
      "cell_type": "code",
      "execution_count": null,
      "metadata": {
        "id": "MSCrwaG1ABKR"
      },
      "outputs": [],
      "source": [
        "info = resp.json()  # Stores the json as a python dictionary"
      ]
    },
    {
      "cell_type": "code",
      "execution_count": null,
      "metadata": {
        "colab": {
          "base_uri": "https://localhost:8080/"
        },
        "id": "KBXyYxFoAHwR",
        "outputId": "98c058ef-020d-447d-b7b1-5ab448bec5ad"
      },
      "outputs": [
        {
          "output_type": "execute_result",
          "data": {
            "text/plain": [
              "dict_keys(['numFound', 'start', 'numFoundExact', 'docs', 'num_found', 'q', 'offset'])"
            ]
          },
          "metadata": {},
          "execution_count": 3
        }
      ],
      "source": [
        "info.keys() # Get the keys of the dictionary"
      ]
    },
    {
      "cell_type": "code",
      "execution_count": null,
      "metadata": {
        "colab": {
          "base_uri": "https://localhost:8080/"
        },
        "id": "Rt2owNXBAR2C",
        "outputId": "0c5ef856-f0c4-44e1-eddf-3d481cd1b42d"
      },
      "outputs": [
        {
          "output_type": "execute_result",
          "data": {
            "text/plain": [
              "dict_keys(['key', 'type', 'seed', 'title', 'title_suggest', 'edition_count', 'edition_key', 'publish_date', 'publish_year', 'first_publish_year', 'number_of_pages_median', 'lccn', 'publish_place', 'oclc', 'contributor', 'lcc', 'ddc', 'isbn', 'last_modified_i', 'ebook_count_i', 'ebook_access', 'has_fulltext', 'public_scan_b', 'ia', 'ia_collection', 'ia_collection_s', 'lending_edition_s', 'lending_identifier_s', 'printdisabled_s', 'cover_edition_key', 'cover_i', 'first_sentence', 'publisher', 'language', 'author_key', 'author_name', 'person', 'place', 'subject', 'time', 'id_alibris_id', 'id_amazon', 'id_bodleian__oxford_university', 'id_depósito_legal', 'id_goodreads', 'id_google', 'id_librarything', 'id_paperback_swap', 'ia_loaded_id', 'ia_box_id', 'publisher_facet', 'person_key', 'place_key', 'time_facet', 'person_facet', 'subject_facet', '_version_', 'place_facet', 'lcc_sort', 'author_facet', 'subject_key', 'ddc_sort', 'time_key'])"
            ]
          },
          "metadata": {},
          "execution_count": 4
        }
      ],
      "source": [
        "info['numFoundExact']\n",
        "info['docs']\n",
        "info['docs'][0].keys()  # 0 to pick 1st book"
      ]
    },
    {
      "cell_type": "code",
      "execution_count": null,
      "metadata": {
        "colab": {
          "base_uri": "https://localhost:8080/"
        },
        "id": "wOfuZ9oWBRUh",
        "outputId": "a3da26df-bf23-4f06-9c07-956b7bf34dbe"
      },
      "outputs": [
        {
          "output_type": "stream",
          "name": "stdout",
          "text": [
            "['Harper Lee']\n"
          ]
        },
        {
          "output_type": "execute_result",
          "data": {
            "text/plain": [
              "1960"
            ]
          },
          "metadata": {},
          "execution_count": 5
        }
      ],
      "source": [
        "print(info['docs'][0]['author_name'])\n",
        "info['docs'][0]['first_publish_year']"
      ]
    },
    {
      "cell_type": "code",
      "execution_count": null,
      "metadata": {
        "colab": {
          "base_uri": "https://localhost:8080/"
        },
        "id": "drSiwSa6BtZD",
        "outputId": "f52cef4a-f941-46bf-d38d-956e499bc305"
      },
      "outputs": [
        {
          "output_type": "stream",
          "name": "stdout",
          "text": [
            "death note\n",
            "death+note\n"
          ]
        }
      ],
      "source": [
        "import requests\n",
        "bookname = input()\n",
        "query_book = bookname.lower()\n",
        "query_book = query_book.replace(' ', '+')\n",
        "print(query_book)"
      ]
    },
    {
      "cell_type": "code",
      "execution_count": null,
      "metadata": {
        "id": "KnP8F0kgDBHG"
      },
      "outputs": [],
      "source": [
        "resp = requests.get(f\"http://openlibrary.org/search.json?title={query_book}\")"
      ]
    },
    {
      "cell_type": "code",
      "source": [
        "info = resp.json()\n",
        "author_name = info['docs'][0]['author_name']\n",
        "first_publish_year = info['docs'][0]['first_publish_year']"
      ],
      "metadata": {
        "id": "IkcQHNXahloG"
      },
      "execution_count": null,
      "outputs": []
    },
    {
      "cell_type": "code",
      "execution_count": null,
      "metadata": {
        "id": "f2jJ6zx5EQAX",
        "colab": {
          "base_uri": "https://localhost:8080/"
        },
        "outputId": "d08a81e3-7f58-4ece-ec22-9f7c2e1e5997"
      },
      "outputs": [
        {
          "output_type": "stream",
          "name": "stdout",
          "text": [
            "Author of 'Death Note' is Enamul Huq. It was first published in 2021\n"
          ]
        }
      ],
      "source": [
        "print(f\"Author of '{bookname.title()}' is {author_name[0]}. It was first published in {first_publish_year}\")"
      ]
    }
  ],
  "metadata": {
    "colab": {
      "provenance": []
    },
    "kernelspec": {
      "display_name": "Python 3",
      "name": "python3"
    },
    "language_info": {
      "name": "python"
    }
  },
  "nbformat": 4,
  "nbformat_minor": 0
}